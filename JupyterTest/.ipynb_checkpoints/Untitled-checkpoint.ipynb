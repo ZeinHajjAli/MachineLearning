{
 "cells": [
  {
   "cell_type": "markdown",
   "metadata": {},
   "source": [
    "# FiveThirtyEight battleSim.py\n",
    "\n",
    "The code below is a test of how code can be written and outputted in Jupyter Notebooks with MarkDown for explainations.\n",
    "\n",
    "## This is a linebreak:\n",
    "\n",
    "---"
   ]
  },
  {
   "cell_type": "code",
   "execution_count": 1,
   "metadata": {},
   "outputs": [
    {
     "name": "stdout",
     "output_type": "stream",
     "text": [
      "0.06142834573984146\n"
     ]
    }
   ],
   "source": [
    "# Import statements for matplotlib\n",
    "import matplotlib.pyplot as plt\n",
    "import numpy as np\n",
    "\n",
    "def sim(fallen, alive):\n",
    "# sim: Recursive function to calculate the win probability in a battle between\n",
    "# the fallen and the alive when the individual probability is 0.5. When the\n",
    "# fallen win, they add 1 to their number while subtracting one from the alive.\n",
    "# When the alive win, they subtract one from the fallen's number without adding\n",
    "# to their own.\n",
    "#\n",
    "# INPUTS:\n",
    "#   fallen: Number of soldiers in the fallen army\n",
    "#   alive: Number of soldiers in the alive army\n",
    "#\n",
    "# OUTPUTS:\n",
    "#   winRate: double value that represents the probaility of the alive winning\n",
    "\n",
    "    # If there are no fallen left, the alive win\n",
    "    if fallen < 1:\n",
    "        return 1.0\n",
    "    # If there are no alive left, the fallen win\n",
    "    elif alive < 1:\n",
    "        return 0.0\n",
    "    # If there are at least 1 fallen and 1 alive, calculate probaility\n",
    "    else:\n",
    "        return (0.5*(sim(fallen-1, alive)) + 0.5*(sim(fallen+1, alive-1)))\n",
    "\n",
    "def main():\n",
    "    # TODO: add code to plot results using matplotlib\n",
    "    print(sim(10, 10))\n",
    "\n",
    "# Tells interpreter what to run if script is run\n",
    "if __name__ == \"__main__\":\n",
    "    main()\n"
   ]
  },
  {
   "cell_type": "markdown",
   "metadata": {},
   "source": [
    "---\n",
    "\n",
    "MarkDown can be processed at any point in the notebook, and will be used to give context to results.\n",
    "\n",
    "Inline comments in code will be used for clode readability and clarity.\n",
    "\n",
    "---\n",
    "\n",
    "# The End"
   ]
  }
 ],
 "metadata": {
  "kernelspec": {
   "display_name": "Python 3",
   "language": "python",
   "name": "python3"
  },
  "language_info": {
   "codemirror_mode": {
    "name": "ipython",
    "version": 3
   },
   "file_extension": ".py",
   "mimetype": "text/x-python",
   "name": "python",
   "nbconvert_exporter": "python",
   "pygments_lexer": "ipython3",
   "version": "3.7.3"
  }
 },
 "nbformat": 4,
 "nbformat_minor": 2
}
